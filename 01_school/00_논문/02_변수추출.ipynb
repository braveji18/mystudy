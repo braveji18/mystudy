{
 "cells": [
  {
   "cell_type": "markdown",
   "metadata": {},
   "source": [
    "# 변수 추출"
   ]
  },
  {
   "cell_type": "markdown",
   "metadata": {},
   "source": [
    "RNA-Seq 데이터 샘플\n",
    "\n",
    "```\n",
    "ENSG00000242268.2\t0.0\n",
    "ENSG00000270112.3\t0.150012657236\n",
    "ENSG00000167578.15\t6.76359958728\n",
    "ENSG00000273842.1\t0.0\n",
    "ENSG00000078237.5\t17.398229005\n",
    "ENSG00000146083.10\t41.8367351424\n",
    "\n",
    "~~~~\n",
    "\n",
    "ENSG00000231119.2\t0.073160516105\n",
    "ENSG00000280861.1\t0.0\n",
    "ENSG00000123685.7\t2.36108104824\n",
    "ENSG00000181518.3\t0.0\n",
    "```\n",
    "\n",
    "- http://asia.ensembl.org/index.html 에서 유전자 정보를찾아볼 수 있음.\n",
    "\n",
    "- ENSG00000270112.3\t : 변수,  ensembl에서 사용되는 Gene ID임.\n",
    "- 0.150012657236     : 변수의 값, 발현량을 정규화시킨 값    \n",
    "- 변수( ENSG00000270112.3 )를  배열에서 몇번째 위치시킬 것인지에 대한 위치 정보를 mysql 테이블에 저장함.\n"
   ]
  },
  {
   "cell_type": "markdown",
   "metadata": {},
   "source": [
    "## GeneID의 배열 위치(index)을  DB에 저장하기\n",
    "\n",
    "MYSQL 스키마 구조 \n",
    "\n",
    "```\n",
    "use tcga_gdc;\n",
    "\n",
    "DROP TABLE IF EXISTS gene_index CASCADE ;\n",
    "CREATE TABLE IF NOT EXISTS gene_index (\n",
    "  ensembl_id   VARCHAR(20)  PRIMARY KEY,\n",
    "  seq_index    INT,\n",
    "  use_flag     VARCHAR(1) DEFAULT 'Y'\n",
    ");\n",
    "```"
   ]
  },
  {
   "cell_type": "code",
   "execution_count": null,
   "metadata": {
    "collapsed": true
   },
   "outputs": [],
   "source": [
    "# mysql_python.py에 아래 함수 추가\n",
    "def insert_gene_index(info ):\n",
    "    query = \"INSERT INTO gene_index(ensembl_id, seq_index) \" \\\n",
    "            \"VALUES(%s,%s)\"\n",
    "\n",
    "    try:\n",
    "        conn = connect()\n",
    "\n",
    "        cursor = conn.cursor()\n",
    "        cursor.executemany(query, info)\n",
    "\n",
    "        conn.commit()\n",
    "    except Error as e:\n",
    "        print('Error:', e)\n",
    "\n",
    "    finally:\n",
    "        cursor.close()\n",
    "        conn.close()\n"
   ]
  },
  {
   "cell_type": "code",
   "execution_count": null,
   "metadata": {
    "collapsed": true
   },
   "outputs": [],
   "source": [
    "# insert_gene_index.py\n",
    "from  mysql_python import insert_gene_index\n",
    "\n",
    "FETCH_SIZE = 100\n",
    "\n",
    "with open('037bf43c-7de6-4f82-80bc-8c9673fbdd7d.FPKM.txt','r') as gdc :\n",
    "    cnt = 0\n",
    "    in_data = []\n",
    "\n",
    "    for line in gdc:\n",
    "        cnt += 1\n",
    "\n",
    "        #print( line )\n",
    "        rows = line.strip().split('\\t')\n",
    "        in_data.append( ( rows[0].split('.')[0] , cnt-1  )  )\n",
    "\n",
    "        if( cnt % FETCH_SIZE == 0) :\n",
    "            insert_gene_index( in_data )\n",
    "            in_data = []\n",
    "\n",
    "\n",
    "    insert_gene_index( in_data )\n"
   ]
  },
  {
   "cell_type": "code",
   "execution_count": null,
   "metadata": {
    "collapsed": true
   },
   "outputs": [],
   "source": []
  }
 ],
 "metadata": {
  "kernelspec": {
   "display_name": "Python 2",
   "language": "python",
   "name": "python2"
  },
  "language_info": {
   "codemirror_mode": {
    "name": "ipython",
    "version": 2
   },
   "file_extension": ".py",
   "mimetype": "text/x-python",
   "name": "python",
   "nbconvert_exporter": "python",
   "pygments_lexer": "ipython2",
   "version": "2.7.11"
  }
 },
 "nbformat": 4,
 "nbformat_minor": 0
}
