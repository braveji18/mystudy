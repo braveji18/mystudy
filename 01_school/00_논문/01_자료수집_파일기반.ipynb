{
 "cells": [
  {
   "cell_type": "markdown",
   "metadata": {},
   "source": [
    "# TCGA 사이트\n",
    "\n",
    "https://cancergenome.nih.gov/    "
   ]
  },
  {
   "cell_type": "markdown",
   "metadata": {},
   "source": [
    "## TCGA-BRCA( 유방 침윤성 암종 ) 데이터 현황 및 기초 정보 다운로드\n",
    "\n",
    "https://portal.gdc.cancer.gov/projects/TCGA-BRCA\n",
    "\n",
    "\n",
    "![](01_자료수집_파일_01.jpg)\n",
    "\n",
    "- 빨간색으로 표시한 JSON 버튼을 클릭하면 cases.2017-10-25T09_05_38.765714.json 파일이 다운로드되며,  TCGA-BRCA 데이터 현황 정보가 포함됨.\n"
   ]
  },
  {
   "cell_type": "markdown",
   "metadata": {},
   "source": [
    "## TCGA-BRCA 요약 정보 파일 ( JSON ) 보기\n",
    "\n",
    "- http://jsonviewer.stack.hu/ 에 가서   cases.2017-10-25T09_05_38.765714.json 파일 내용을 넣고 Viewer 탭으로 가면 보여짐.\n",
    "\n",
    "![](01_자료수집_파일_02.jpg)\n",
    "\n"
   ]
  },
  {
   "cell_type": "code",
   "execution_count": 9,
   "metadata": {
    "collapsed": false
   },
   "outputs": [
    {
     "name": "stdout",
     "output_type": "stream",
     "text": [
      "CASE count=1098\n",
      "not_diagnoses_cnt=1\n",
      "not_reported_cnt=11\n",
      "{u'stage ia': 86, u'stage iii': 2, u'stage ib': 7, u'stage i': 90, u'stage iia': 358, u'stage iib': 257, u'stage iiia': 155, u'stage ii': 6, u'stage iiic': 65, u'stage iiib': 27, u'stage x': 13, u'stage iv': 20}\n",
      "stage_1_list cnt=183\n",
      "stage_2_list cnt=621\n",
      "stage_3_list cnt=249\n",
      "stage_4_list cnt=20\n"
     ]
    }
   ],
   "source": [
    "import json \n",
    "import pprint\n",
    "\n",
    "json_data = open('cases.2017-10-25T09_05_38.765714.json').read()\n",
    "\n",
    "data = json.loads(json_data)\n",
    "\n",
    "caseCnt = len( data )\n",
    "print \"CASE count=\" + str( caseCnt )\n",
    "\n",
    "not_diagnoses_cnt = 0\n",
    "not_reported_cnt = 0\n",
    "stage_count = {} \n",
    "stage_dic = { 'stage_1' : [], 'stage_2' : [], 'stage_3' : [] , 'stage_4' : []    } \n",
    "for idx in range( caseCnt ) : \n",
    "    \n",
    "    if data[ idx ].get('diagnoses'):\n",
    "        diagnoses = data[ idx ]['diagnoses']\n",
    "        tumor_stage = diagnoses[0]['tumor_stage']\n",
    "        case_id = data[ idx ]['case_id']\n",
    "        if tumor_stage == 'not reported' : \n",
    "            not_reported_cnt = 1 +  not_reported_cnt    \n",
    "        else :\n",
    "            if tumor_stage in ('stage i', 'stage ia', 'stage ib' ):\n",
    "                stage_dic['stage_1'].append( case_id )\n",
    "            elif tumor_stage in ('stage ii', 'stage iia', 'stage iib' ):\n",
    "                stage_dic['stage_2'].append( case_id )\n",
    "            elif tumor_stage in ('stage iii', 'stage iiia', 'stage iiib', 'stage iiic' ):\n",
    "                stage_dic['stage_3'].append( case_id )\n",
    "            elif tumor_stage in ('stage iv' ):\n",
    "                stage_dic['stage_4'].append( case_id )\n",
    "            \n",
    "            \n",
    "            if tumor_stage in stage_count  : \n",
    "                stage_count[ tumor_stage  ] = 1 + stage_count[ tumor_stage  ]\n",
    "            else : \n",
    "                stage_count[ tumor_stage  ] = 1\n",
    "                \n",
    "        #print \"idx=%s, diagnoses count=%s\" % ( str(idx),  str( len( diagnoses ) )  )        \n",
    "    else : \n",
    "        not_diagnoses_cnt = 1 +  not_diagnoses_cnt\n",
    "    \n",
    "print \"not_diagnoses_cnt=\" + str( not_diagnoses_cnt )\n",
    "print \"not_reported_cnt=\" + str( not_reported_cnt )\n",
    "print stage_count\n",
    "print \"stage_1_list cnt=\" + str( len(stage_dic['stage_1']) )\n",
    "print \"stage_2_list cnt=\" + str( len(stage_dic['stage_2']) )\n",
    "print \"stage_3_list cnt=\" + str( len(stage_dic['stage_3']) )\n",
    "print \"stage_4_list cnt=\" + str( len(stage_dic['stage_4']) )"
   ]
  },
  {
   "cell_type": "markdown",
   "metadata": {},
   "source": [
    "## TCGA-BRCA의 mRNA 발현 데이터 다운로드\n",
    "\n",
    "- https://portal.gdc.cancer.gov/query  페이징에서 Query 입력란에 아래와 같은 쿼리 입력하고 Sumbmit Query 버튼 클릭 \n",
    "\n",
    "- cases.project.project_id in [\"TCGA-BRCA\"] and files.data_category in [\"Transcriptome Profiling\"]\n",
    "\n",
    "- JSON 버튼 클릭하여 files.2017-10-25T10_54_46.644542.json 파일 다운로드함.\n",
    "\n",
    "![](01_자료수집_파일_03.jpg)\n",
    "\n",
    "\n",
    "- gdc_manifest_20171025_122019.txt 다운받기 \n",
    "\n",
    "![](01_자료수집_파일_04.jpg)\n",
    "\n",
    "![](01_자료수집_파일_05.jpg)\n",
    "\n",
    "![](01_자료수집_파일_06.jpg)"
   ]
  },
  {
   "cell_type": "code",
   "execution_count": 10,
   "metadata": {
    "collapsed": false
   },
   "outputs": [
    {
     "name": "stdout",
     "output_type": "stream",
     "text": [
      "stage_1_file cnt=202\n",
      "stage_2_file cnt=697\n",
      "stage_3_file cnt=276\n",
      "stage_4_file cnt=22\n"
     ]
    }
   ],
   "source": [
    "with open('files.2017-10-25T10_54_46.644542.json') as data_file:\n",
    "    files_json = json.load(data_file)\n",
    "    \n",
    "cnt = 0\n",
    "stage_filename = { 'stage_1' : [], 'stage_2' : [], 'stage_3' : [] , 'stage_4' : []    } \n",
    "for file_info in files_json :\n",
    "    file_name = file_info['file_name']\n",
    "    case_id = file_info['cases'][0]['case_id']\n",
    "    if 'FPKM-UQ.txt.gz' in file_name : \n",
    "        for stageKey in stage_dic.keys(): \n",
    "            if case_id in stage_dic[ stageKey ] :\n",
    "                stage_filename[ stageKey ].append( file_name )\n",
    "        \n",
    "print \"stage_1_file cnt=\" + str( len(stage_filename['stage_1']) )\n",
    "print \"stage_2_file cnt=\" + str( len(stage_filename['stage_2']) )\n",
    "print \"stage_3_file cnt=\" + str( len(stage_filename['stage_3']) )\n",
    "print \"stage_4_file cnt=\" + str( len(stage_filename['stage_4']) )"
   ]
  },
  {
   "cell_type": "code",
   "execution_count": 17,
   "metadata": {
    "collapsed": false
   },
   "outputs": [
    {
     "name": "stdout",
     "output_type": "stream",
     "text": [
      "uuid=000cf9c6-1373-4fb0-b759-5fd8c3799030, filename=b9e7b7b5-54e8-4459-8a21-ea3472b013d7.FPKM-UQ.txt.gz\n",
      "uuid=00156c51-2686-4736-88c1-c30c81ec0a12, filename=2807d45f-9e15-4e06-8336-de7295fc7509.htseq.counts.gz\n",
      "uuid=001fe63b-06c8-4ca1-861a-3d1dd0fdf5fc, filename=b4474f7c-f371-4ecb-8c2f-cd7b5d5d243b.htseq.counts.gz\n",
      "uuid=002aa584-7dd3-4c62-952b-b24e5858482b, filename=a5dc521e-bee4-489c-8679-d4b90a327d33.FPKM.txt.gz\n",
      "uuid=002c6f93-606c-4d4a-855a-aaf52b035c29, filename=6d27be54-6210-431e-b460-247587c5ab8d.htseq.counts.gz\n",
      "uuid=002c7ead-0e16-4a3f-ae29-5ffcfdcd2e3a, filename=c45fe186-f0ba-4017-a8f6-a511c1b000eb.htseq.counts.gz\n",
      "uuid=0031a3d3-b319-4109-9155-52cbb67b05cc, filename=1287d36a-6a27-4e4e-a2f7-51727ac3cc0e.FPKM-UQ.txt.gz\n",
      "uuid=00331c0a-23f0-4724-9c0f-5e37f971f26f, filename=b2a6c9e3-65eb-43bd-849a-5829007379ab.htseq.counts.gz\n",
      "uuid=0039181f-544b-4ee6-8d6b-ea9daf1adfe0, filename=d229a59b-4f6c-4714-8dd5-1c714a764b22.FPKM.txt.gz\n"
     ]
    }
   ],
   "source": [
    "gdc_manifest = {}\n",
    "with open('gdc_manifest_20171025_122019.txt','r') as gdc :\n",
    "    cnt = 0\n",
    "    head_skip = True\n",
    "    for line in gdc:\n",
    "        cnt += 1\n",
    "        if( head_skip ) :\n",
    "            head_skip = False\n",
    "            continue\n",
    "\n",
    "        #print( line )\n",
    "        rows = line.strip().split('\\t')\n",
    "        uuid = str( rows[0] )\n",
    "        file_name = rows[1]\n",
    "        if cnt <= 10 : \n",
    "            print \"uuid=%s, filename=%s\" %(uuid, file_name )\n",
    "                \n",
    "        gdc_manifest[ file_name ] = uuid"
   ]
  },
  {
   "cell_type": "markdown",
   "metadata": {
    "collapsed": false
   },
   "source": [
    "- 리눅스 서버에서는 curl 명령어로 데이터를 다운받을 수 있지만, 윈도우즈 환경에서 안 되어서 GDC포탈에서 제공하는 gdc-client.exe 도구를 사용함.\n",
    "\n",
    "- **윈도우즈 환경) gdc-client.exe  download -m gdc_manifest_20171025_122019.txt  **\n",
    "- 리눅스일 때) curl --remote-name --remote-header-name 'https://api.gdc.cancer.gov/data/3b9575c1-0d7c-4288-aba6-83fde2d74af7'\n"
   ]
  },
  {
   "cell_type": "code",
   "execution_count": 12,
   "metadata": {
    "collapsed": false
   },
   "outputs": [
    {
     "name": "stdout",
     "output_type": "stream",
     "text": [
      "2017-10-25  오후 10:06    <DIR>          ff95a120-4d50-4489-b706-48276d67f1d9\n",
      "2017-10-25  오후 10:06    <DIR>          ff974bfe-5a8b-488e-bf8c-ddab843f8ef2\n",
      "2017-10-26  오전 03:47    <DIR>          ff9a7fe0-136a-4707-82c7-25db9797c515\n",
      "2017-10-26  오전 03:41    <DIR>          ffa1d263-e812-408d-b8d1-786b65d80966\n",
      "2017-10-25  오후 10:36    <DIR>          ffab607b-b483-41e9-bb8a-ec27f7f61b79\n",
      "2017-10-25  오후 10:14    <DIR>          ffb4c0ac-6070-40ea-b893-be699fbea49a\n",
      "2017-10-26  오전 03:42    <DIR>          ffb5a4f6-b601-4536-aade-d82cfb90e5d9\n",
      "2017-10-25  오후 10:27    <DIR>          ffb69c91-52bf-4d82-be7c-3616c1fc3815\n",
      "               0개 파일                   0 바이트\n",
      "            6079개 디렉터리  22,288,736,256 바이트 남음\n"
     ]
    }
   ],
   "source": [
    "!dir  data | tail"
   ]
  },
  {
   "cell_type": "markdown",
   "metadata": {},
   "source": [
    "- uuid 이름의 디렉토리안에 파일이 다운로드됨.\n",
    "- 각각의 stage별로 파일을 추출함."
   ]
  },
  {
   "cell_type": "code",
   "execution_count": 53,
   "metadata": {
    "collapsed": false
   },
   "outputs": [],
   "source": [
    "import gzip\n",
    "import StringIO\n",
    "\n",
    "def makeOneLine( stage , filename, makeHead ) :\n",
    "    SEPARATOR = ','\n",
    "    NEWLINE = '\\n'\n",
    "\n",
    "    line = StringIO.StringIO()\n",
    "    if makeHead == True : \n",
    "        line.write( 'stage' )\n",
    "    else :\n",
    "        line.write( stage )\n",
    "    with gzip.open(filename,'r') as f:\n",
    "        for fpkm_line in f:\n",
    "            rows = fpkm_line.strip('\\n').split('\\t')\n",
    "            line.write( SEPARATOR )\n",
    "            if makeHead == True : \n",
    "                line.write( rows[0] )\n",
    "            else : \n",
    "                line.write( rows[1] )\n",
    "        \n",
    "    line.write( NEWLINE )\n",
    "    contents = line.getvalue()\n",
    "    line.close()\n",
    "    return contents"
   ]
  },
  {
   "cell_type": "code",
   "execution_count": 54,
   "metadata": {
    "collapsed": false
   },
   "outputs": [
    {
     "name": "stdout",
     "output_type": "stream",
     "text": [
      "mRNA_201710262036.csv\n",
      "stage_4\n",
      "stage_1\n",
      "no file : ./data/7b571209-390a-40fb-a6dd-c05bff145005/a1e80ada-950c-439a-a360-f99c02ccec93.FPKM-UQ.txt.gz\n",
      "stage_2\n",
      "stage_3\n",
      "no file : ./data/835d1ae6-7e63-401d-b70d-e90aa3007117/d487c477-1052-4b32-8df9-edf0e6872bd4.FPKM-UQ.txt.gz\n"
     ]
    }
   ],
   "source": [
    "import shutil\n",
    "import datetime\n",
    "import os\n",
    "import gzip\n",
    "import StringIO\n",
    "\n",
    "MRNA_CSV = 'mRNA_%s.csv' %( datetime.datetime.today().strftime('%Y%m%d%H%M') ) \n",
    "IS_FIRST = True\n",
    "print MRNA_CSV \n",
    "with open(MRNA_CSV, 'w') as f:\n",
    "    for  stage in stage_filename.keys(): \n",
    "        file_list = stage_filename[ stage ]\n",
    "        print stage\n",
    "        for filename in file_list :\n",
    "            uuid = gdc_manifest[ filename ]\n",
    "            src_file = './data/%s/%s' %( uuid  , filename )\n",
    "            dst_file = './%s/' %( stage  )\n",
    "            if os.path.isfile(src_file):\n",
    "                #shutil.copy( src_file  , dst_file )\n",
    "                if True == IS_FIRST : \n",
    "                    contents = makeOneLine( stage , src_file, True )    \n",
    "                    f.write( contents )\n",
    "                    f.flush()\n",
    "                    IS_FIRST = False\n",
    "\n",
    "                contents = makeOneLine( stage , src_file, False )\n",
    "                f.write( contents )\n",
    "                f.flush()\n",
    "            else :\n",
    "                print \"no file : \" + src_file                "
   ]
  },
  {
   "cell_type": "code",
   "execution_count": null,
   "metadata": {
    "collapsed": true
   },
   "outputs": [],
   "source": [
    "# 2줄 출력\n",
    "with open('mRNA_201710262036.csv', 'r') as f:\n",
    "    print f.readline()\n",
    "    print '\\n\\n\\n\\n'\n",
    "    print f.readline()"
   ]
  },
  {
   "cell_type": "markdown",
   "metadata": {},
   "source": [
    "## mRNA-Seq 데이터  설명\n",
    "\n",
    "- https://docs.gdc.cancer.gov/Data/PDF/Data_UG.pdf\n",
    "    \n",
    "![](01_자료수집_02.jpg)\n",
    "\n",
    "![](01_자료수집_03.jpg)\n"
   ]
  },
  {
   "cell_type": "code",
   "execution_count": null,
   "metadata": {
    "collapsed": true
   },
   "outputs": [],
   "source": []
  }
 ],
 "metadata": {
  "kernelspec": {
   "display_name": "Python 2",
   "language": "python",
   "name": "python2"
  },
  "language_info": {
   "codemirror_mode": {
    "name": "ipython",
    "version": 2
   },
   "file_extension": ".py",
   "mimetype": "text/x-python",
   "name": "python",
   "nbconvert_exporter": "python",
   "pygments_lexer": "ipython2",
   "version": "2.7.11"
  }
 },
 "nbformat": 4,
 "nbformat_minor": 0
}
