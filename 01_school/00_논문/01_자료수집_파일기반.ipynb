{
 "cells": [
  {
   "cell_type": "markdown",
   "metadata": {},
   "source": [
    "# TCGA 사이트\n",
    "\n",
    "https://cancergenome.nih.gov/    "
   ]
  },
  {
   "cell_type": "markdown",
   "metadata": {},
   "source": [
    "## TCGA-BRCA( 유방 침윤성 암종 ) 데이터 현황 및 기초 정보 다운로드\n",
    "\n",
    "https://portal.gdc.cancer.gov/projects/TCGA-BRCA\n",
    "\n",
    "\n",
    "![](01_자료수집_파일_01.jpg)\n",
    "\n",
    "- 빨간색으로 표시한 JSON 버튼을 클릭하면 cases.2017-10-25T09_05_38.765714.json 파일이 다운로드되며,  TCGA-BRCA 데이터 현황 정보가 포함됨.\n"
   ]
  },
  {
   "cell_type": "markdown",
   "metadata": {},
   "source": [
    "## TCGA-BRCA 요약 정보 파일 ( JSON ) 보기\n",
    "\n",
    "- http://jsonviewer.stack.hu/ 에 가서   cases.2017-10-25T09_05_38.765714.json 파일 내용을 넣고 Viewer 탭으로 가면 보여짐.\n",
    "\n",
    "![](01_자료수집_파일_02.jpg)\n",
    "\n"
   ]
  },
  {
   "cell_type": "code",
   "execution_count": 9,
   "metadata": {
    "collapsed": false
   },
   "outputs": [
    {
     "name": "stdout",
     "output_type": "stream",
     "text": [
      "CASE count=1098\n",
      "not_diagnoses_cnt=1\n",
      "not_reported_cnt=11\n",
      "{u'stage ia': 86, u'stage iii': 2, u'stage ib': 7, u'stage i': 90, u'stage iia': 358, u'stage iib': 257, u'stage iiia': 155, u'stage ii': 6, u'stage iiic': 65, u'stage iiib': 27, u'stage x': 13, u'stage iv': 20}\n",
      "stage_1_list cnt=183\n",
      "stage_2_list cnt=621\n",
      "stage_3_list cnt=249\n",
      "stage_4_list cnt=20\n"
     ]
    }
   ],
   "source": [
    "import json \n",
    "import pprint\n",
    "\n",
    "json_data = open('cases.2017-10-25T09_05_38.765714.json').read()\n",
    "\n",
    "data = json.loads(json_data)\n",
    "\n",
    "caseCnt = len( data )\n",
    "print \"CASE count=\" + str( caseCnt )\n",
    "\n",
    "not_diagnoses_cnt = 0\n",
    "not_reported_cnt = 0\n",
    "stage_count = {} \n",
    "stage_dic = { 'stage_1' : [], 'stage_2' : [], 'stage_3' : [] , 'stage_4' : []    } \n",
    "for idx in range( caseCnt ) : \n",
    "    \n",
    "    if data[ idx ].get('diagnoses'):\n",
    "        diagnoses = data[ idx ]['diagnoses']\n",
    "        tumor_stage = diagnoses[0]['tumor_stage']\n",
    "        case_id = data[ idx ]['case_id']\n",
    "        if tumor_stage == 'not reported' : \n",
    "            not_reported_cnt = 1 +  not_reported_cnt    \n",
    "        else :\n",
    "            if tumor_stage in ('stage i', 'stage ia', 'stage ib' ):\n",
    "                stage_dic['stage_1'].append( case_id )\n",
    "            elif tumor_stage in ('stage ii', 'stage iia', 'stage iib' ):\n",
    "                stage_dic['stage_2'].append( case_id )\n",
    "            elif tumor_stage in ('stage iii', 'stage iiia', 'stage iiib', 'stage iiic' ):\n",
    "                stage_dic['stage_3'].append( case_id )\n",
    "            elif tumor_stage in ('stage iv' ):\n",
    "                stage_dic['stage_4'].append( case_id )\n",
    "            \n",
    "            \n",
    "            if tumor_stage in stage_count  : \n",
    "                stage_count[ tumor_stage  ] = 1 + stage_count[ tumor_stage  ]\n",
    "            else : \n",
    "                stage_count[ tumor_stage  ] = 1\n",
    "                \n",
    "        #print \"idx=%s, diagnoses count=%s\" % ( str(idx),  str( len( diagnoses ) )  )        \n",
    "    else : \n",
    "        not_diagnoses_cnt = 1 +  not_diagnoses_cnt\n",
    "    \n",
    "print \"not_diagnoses_cnt=\" + str( not_diagnoses_cnt )\n",
    "print \"not_reported_cnt=\" + str( not_reported_cnt )\n",
    "print stage_count\n",
    "print \"stage_1_list cnt=\" + str( len(stage_dic['stage_1']) )\n",
    "print \"stage_2_list cnt=\" + str( len(stage_dic['stage_2']) )\n",
    "print \"stage_3_list cnt=\" + str( len(stage_dic['stage_3']) )\n",
    "print \"stage_4_list cnt=\" + str( len(stage_dic['stage_4']) )"
   ]
  },
  {
   "cell_type": "markdown",
   "metadata": {},
   "source": [
    "## TCGA-BRCA의 mRNA 발현 데이터 다운로드\n",
    "\n",
    "- https://portal.gdc.cancer.gov/query  페이징에서 Query 입력란에 아래와 같은 쿼리 입력하고 Sumbmit Query 버튼 클릭 \n",
    "\n",
    "- cases.project.project_id in [\"TCGA-BRCA\"] and files.data_category in [\"Transcriptome Profiling\"]\n",
    "\n",
    "- JSON 버튼 클릭하여 files.2017-10-25T10_54_46.644542.json 파일 다운로드함.\n",
    "\n",
    "![](01_자료수집_파일_03.jpg)\n",
    "\n",
    "\n",
    "- gdc_manifest_20171025_122019.txt 다운받기 \n",
    "\n",
    "![](01_자료수집_파일_04.jpg)\n",
    "\n",
    "![](01_자료수집_파일_05.jpg)\n",
    "\n",
    "![](01_자료수집_파일_06.jpg)"
   ]
  },
  {
   "cell_type": "code",
   "execution_count": 10,
   "metadata": {
    "collapsed": false
   },
   "outputs": [
    {
     "name": "stdout",
     "output_type": "stream",
     "text": [
      "stage_1_file cnt=202\n",
      "stage_2_file cnt=697\n",
      "stage_3_file cnt=276\n",
      "stage_4_file cnt=22\n"
     ]
    }
   ],
   "source": [
    "with open('files.2017-10-25T10_54_46.644542.json') as data_file:\n",
    "    files_json = json.load(data_file)\n",
    "    \n",
    "cnt = 0\n",
    "stage_filename = { 'stage_1' : [], 'stage_2' : [], 'stage_3' : [] , 'stage_4' : []    } \n",
    "for file_info in files_json :\n",
    "    file_name = file_info['file_name']\n",
    "    case_id = file_info['cases'][0]['case_id']\n",
    "    if 'FPKM-UQ.txt.gz' in file_name : \n",
    "        for stageKey in stage_dic.keys(): \n",
    "            if case_id in stage_dic[ stageKey ] :\n",
    "                stage_filename[ stageKey ].append( file_name )\n",
    "        \n",
    "print \"stage_1_file cnt=\" + str( len(stage_filename['stage_1']) )\n",
    "print \"stage_2_file cnt=\" + str( len(stage_filename['stage_2']) )\n",
    "print \"stage_3_file cnt=\" + str( len(stage_filename['stage_3']) )\n",
    "print \"stage_4_file cnt=\" + str( len(stage_filename['stage_4']) )"
   ]
  },
  {
   "cell_type": "code",
   "execution_count": 17,
   "metadata": {
    "collapsed": false
   },
   "outputs": [
    {
     "name": "stdout",
     "output_type": "stream",
     "text": [
      "uuid=000cf9c6-1373-4fb0-b759-5fd8c3799030, filename=b9e7b7b5-54e8-4459-8a21-ea3472b013d7.FPKM-UQ.txt.gz\n",
      "uuid=00156c51-2686-4736-88c1-c30c81ec0a12, filename=2807d45f-9e15-4e06-8336-de7295fc7509.htseq.counts.gz\n",
      "uuid=001fe63b-06c8-4ca1-861a-3d1dd0fdf5fc, filename=b4474f7c-f371-4ecb-8c2f-cd7b5d5d243b.htseq.counts.gz\n",
      "uuid=002aa584-7dd3-4c62-952b-b24e5858482b, filename=a5dc521e-bee4-489c-8679-d4b90a327d33.FPKM.txt.gz\n",
      "uuid=002c6f93-606c-4d4a-855a-aaf52b035c29, filename=6d27be54-6210-431e-b460-247587c5ab8d.htseq.counts.gz\n",
      "uuid=002c7ead-0e16-4a3f-ae29-5ffcfdcd2e3a, filename=c45fe186-f0ba-4017-a8f6-a511c1b000eb.htseq.counts.gz\n",
      "uuid=0031a3d3-b319-4109-9155-52cbb67b05cc, filename=1287d36a-6a27-4e4e-a2f7-51727ac3cc0e.FPKM-UQ.txt.gz\n",
      "uuid=00331c0a-23f0-4724-9c0f-5e37f971f26f, filename=b2a6c9e3-65eb-43bd-849a-5829007379ab.htseq.counts.gz\n",
      "uuid=0039181f-544b-4ee6-8d6b-ea9daf1adfe0, filename=d229a59b-4f6c-4714-8dd5-1c714a764b22.FPKM.txt.gz\n"
     ]
    }
   ],
   "source": [
    "gdc_manifest = {}\n",
    "with open('gdc_manifest_20171025_122019.txt','r') as gdc :\n",
    "    cnt = 0\n",
    "    head_skip = True\n",
    "    for line in gdc:\n",
    "        cnt += 1\n",
    "        if( head_skip ) :\n",
    "            head_skip = False\n",
    "            continue\n",
    "\n",
    "        #print( line )\n",
    "        rows = line.strip().split('\\t')\n",
    "        uuid = str( rows[0] )\n",
    "        file_name = rows[1]\n",
    "        if cnt <= 10 : \n",
    "            print \"uuid=%s, filename=%s\" %(uuid, file_name )\n",
    "                \n",
    "        gdc_manifest[ file_name ] = uuid"
   ]
  },
  {
   "cell_type": "markdown",
   "metadata": {
    "collapsed": false
   },
   "source": [
    "- 리눅스 서버에서는 curl 명령어로 데이터를 다운받을 수 있지만, 윈도우즈 환경에서 안 되어서 GDC포탈에서 제공하는 gdc-client.exe 도구를 사용함.\n",
    "\n",
    "- **윈도우즈 환경) gdc-client.exe  download -m gdc_manifest_20171025_122019.txt  **\n",
    "- 리눅스일 때) curl --remote-name --remote-header-name 'https://api.gdc.cancer.gov/data/3b9575c1-0d7c-4288-aba6-83fde2d74af7'\n"
   ]
  },
  {
   "cell_type": "code",
   "execution_count": 12,
   "metadata": {
    "collapsed": false
   },
   "outputs": [
    {
     "name": "stdout",
     "output_type": "stream",
     "text": [
      "2017-10-25  오후 10:06    <DIR>          ff95a120-4d50-4489-b706-48276d67f1d9\n",
      "2017-10-25  오후 10:06    <DIR>          ff974bfe-5a8b-488e-bf8c-ddab843f8ef2\n",
      "2017-10-26  오전 03:47    <DIR>          ff9a7fe0-136a-4707-82c7-25db9797c515\n",
      "2017-10-26  오전 03:41    <DIR>          ffa1d263-e812-408d-b8d1-786b65d80966\n",
      "2017-10-25  오후 10:36    <DIR>          ffab607b-b483-41e9-bb8a-ec27f7f61b79\n",
      "2017-10-25  오후 10:14    <DIR>          ffb4c0ac-6070-40ea-b893-be699fbea49a\n",
      "2017-10-26  오전 03:42    <DIR>          ffb5a4f6-b601-4536-aade-d82cfb90e5d9\n",
      "2017-10-25  오후 10:27    <DIR>          ffb69c91-52bf-4d82-be7c-3616c1fc3815\n",
      "               0개 파일                   0 바이트\n",
      "            6079개 디렉터리  22,288,736,256 바이트 남음\n"
     ]
    }
   ],
   "source": [
    "!dir  data | tail"
   ]
  },
  {
   "cell_type": "markdown",
   "metadata": {},
   "source": [
    "- uuid 이름의 디렉토리안에 파일이 다운로드됨.\n",
    "- 각각의 stage별로 파일을 추출함."
   ]
  },
  {
   "cell_type": "code",
   "execution_count": 53,
   "metadata": {
    "collapsed": false
   },
   "outputs": [],
   "source": [
    "import gzip\n",
    "import StringIO\n",
    "\n",
    "def makeOneLine( stage , filename, makeHead ) :\n",
    "    SEPARATOR = ','\n",
    "    NEWLINE = '\\n'\n",
    "\n",
    "    line = StringIO.StringIO()\n",
    "    if makeHead == True : \n",
    "        line.write( 'stage' )\n",
    "    else :\n",
    "        line.write( stage )\n",
    "    with gzip.open(filename,'r') as f:\n",
    "        for fpkm_line in f:\n",
    "            rows = fpkm_line.strip('\\n').split('\\t')\n",
    "            line.write( SEPARATOR )\n",
    "            if makeHead == True : \n",
    "                line.write( rows[0] )\n",
    "            else : \n",
    "                line.write( rows[1] )\n",
    "        \n",
    "    line.write( NEWLINE )\n",
    "    contents = line.getvalue()\n",
    "    line.close()\n",
    "    return contents"
   ]
  },
  {
   "cell_type": "code",
   "execution_count": 54,
   "metadata": {
    "collapsed": false
   },
   "outputs": [
    {
     "name": "stdout",
     "output_type": "stream",
     "text": [
      "mRNA_201710262036.csv\n",
      "stage_4\n",
      "stage_1\n",
      "no file : ./data/7b571209-390a-40fb-a6dd-c05bff145005/a1e80ada-950c-439a-a360-f99c02ccec93.FPKM-UQ.txt.gz\n",
      "stage_2\n",
      "stage_3\n",
      "no file : ./data/835d1ae6-7e63-401d-b70d-e90aa3007117/d487c477-1052-4b32-8df9-edf0e6872bd4.FPKM-UQ.txt.gz\n"
     ]
    }
   ],
   "source": [
    "import shutil\n",
    "import datetime\n",
    "import os\n",
    "import gzip\n",
    "import StringIO\n",
    "\n",
    "MRNA_CSV = 'mRNA_%s.csv' %( datetime.datetime.today().strftime('%Y%m%d%H%M') ) \n",
    "IS_FIRST = True\n",
    "print MRNA_CSV \n",
    "with open(MRNA_CSV, 'w') as f:\n",
    "    for  stage in stage_filename.keys(): \n",
    "        file_list = stage_filename[ stage ]\n",
    "        print stage\n",
    "        for filename in file_list :\n",
    "            uuid = gdc_manifest[ filename ]\n",
    "            src_file = './data/%s/%s' %( uuid  , filename )\n",
    "            dst_file = './%s/' %( stage  )\n",
    "            if os.path.isfile(src_file):\n",
    "                #shutil.copy( src_file  , dst_file )\n",
    "                if True == IS_FIRST : \n",
    "                    contents = makeOneLine( stage , src_file, True )    \n",
    "                    f.write( contents )\n",
    "                    f.flush()\n",
    "                    IS_FIRST = False\n",
    "\n",
    "                contents = makeOneLine( stage , src_file, False )\n",
    "                f.write( contents )\n",
    "                f.flush()\n",
    "            else :\n",
    "                print \"no file : \" + src_file                "
   ]
  },
  {
   "cell_type": "code",
   "execution_count": 70,
   "metadata": {
    "collapsed": false
   },
   "outputs": [
    {
     "name": "stdout",
     "output_type": "stream",
     "text": [
      "HEADER:stage,ENSG00000242268.2,ENSG00000270112.3,ENSG00000167578.15,ENSG00000273842.1,ENSG00000078237.5,ENSG00000146083.10,ENSG00000225275.4,ENSG00000158486.12,ENSG00000198242.12,ENSG00000259883.1,ENSG00000231981.3,ENSG00000269475.2,ENSG00000201788.1,ENSG00000134108.11,ENSG00000263089.1,ENSG00000172137.17,ENSG00000167700.7,ENSG00000234943.2,ENSG00000240423.1,ENSG00000060642.9,ENSG00000271616.1,ENSG00000234881.1,ENSG00000236040.1,ENSG00000231105.1,ENSG00000243044.1,ENSG00000182141.8,ENSG00000269416.4,ENSG00000264981.1,ENSG00000275265.1,ENSG00000185105.4,ENSG00000233540.1,ENSG00000102174.8,ENSG00000271647.1,ENSG00000166391.13,ENSG00000270469.1,ENSG00000070087.12,ENSG00000262950.1,ENSG00000255420.1,ENSG00000280038.1,ENSG00000266261.1,ENSG00000153561.11,ENSG00000269148.1,ENSG00000274458.1,ENSG00000273406.1,ENSG00000179262.8,ENSG00000214198.6,ENSG00000278099.1,ENSG00000166368.2,ENSG00000206072.11,ENSG00000234900.1,ENSG00000258630.1,ENSG00000127511.8,ENSG00000220993.1,ENSG00000225269.2,ENSG00000214 ...\n",
      "\n",
      "\n",
      "1st LINE:stage_4,1379.03136837,191.344981735,86877.4583502,0.0,66073.074229,419726.632776,0.0,632.670585443,5926102.44898,846.616750143,0.0,0.0,0.0,483988.849364,1067.31852383,375623.41989,203556.528203,0.0,1807.43299071,77394.8395205,0.0,0.0,984.032433709,13033.7656155,0.0,58873.1753267,1386.28355598,0.0,2151.89510229,1991.68484854,0.0,20653.7885183,0.0,2207.87175672,2414.58020109,662608.537252,484.22961006,0.0,97.4241066209,4572.62006557,268090.264827,8116.55024401,0.0,1371.30570244,735367.022507,2625.79407102,0.0,294.027709171,706.430210347,895.393023814,0.0,195294.430524,0.0,187.031952539,450.788338647,2042.06951493,0.0,1208.78058215,707693.96767,509440.758942,568326.516398,5342.65742656,0.0,0.0,0.0,54316.7093881,279782.646872,53130.1232619,0.0,196.372296739,0.0,475.759121254,27778.1109191,4421.05497757,0.0,0.0,8857.19334154,0.0,0.0,0.0,0.0,0.0,540.707019848,0.0,365645.529522,0.0,44844.8368644,0.0,0.0,0.0,56163.7594352,0.0,0.0,0.0,13054.8302872,0.0,0.0,11674.8381789,805.522230803,0.0,0.0,0. ...\n",
      "\n",
      "\n",
      "2nd LINE:stage_4,0.0,0.0,147167.536817,0.0,98540.7461541,212511.50162,0.0,1950.17808205,4271222.44395,2655.44079072,0.0,0.0,0.0,1069617.45396,0.0,18032.9845829,434906.359312,0.0,404.933712351,203554.022973,0.0,0.0,0.0,1238.81293847,0.0,28297.6437048,3261.09237277,0.0,2249.82950511,416.465591873,2585.03137582,8258.00906617,0.0,63067.5207369,0.0,582808.850005,0.0,0.0,0.0,3585.54264387,270135.778773,1339.88537281,0.0,1075.28616053,734628.128472,2260.83198415,0.0,0.0,0.0,0.0,2708.128108,124212.274403,0.0,293.315881038,0.0,7472.51984751,0.0,0.0,638833.824542,95872.6440168,703076.978595,4115.85696368,0.0,0.0,0.0,24308.7357008,972062.036313,59515.8386526,0.0,0.0,0.0,186.529231929,44116.6581355,83485.6245519,0.0,1815.02202983,644.703805855,0.0,0.0,0.0,0.0,1218.6576486,0.0,0.0,244088.930114,0.0,9605.0688716,3046.6441215,0.0,0.0,170708.968189,0.0,0.0,0.0,6551.50351887,0.0,0.0,5760.21460914,0.0,0.0,0.0,0.0,0.0,0.0,0.0,0.0,0.0,7874.40326788,0.0,0.0,581.632059559,0.0,0.0,24200.4342997,0.0,0.0,0.0,27317.4755 ...\n"
     ]
    }
   ],
   "source": [
    "# 3줄 출력\n",
    "with open('mRNA_201710262036.csv', 'r') as f:\n",
    "    print \"HEADER:\" + f.readline()[0:1000] + ' ...'\n",
    "    print \"\\n\"\n",
    "    print \"1st LINE:\" + f.readline()[0:1000] + ' ...'\n",
    "    print \"\\n\"\n",
    "    print \"2nd LINE:\" + f.readline()[0:1000] + ' ...'"
   ]
  },
  {
   "cell_type": "markdown",
   "metadata": {},
   "source": [
    "## mRNA-Seq 데이터  설명\n",
    "\n",
    "- https://docs.gdc.cancer.gov/Data/PDF/Data_UG.pdf\n",
    "    \n",
    "![](01_자료수집_02.jpg)\n",
    "\n",
    "![](01_자료수집_03.jpg)\n"
   ]
  },
  {
   "cell_type": "code",
   "execution_count": null,
   "metadata": {
    "collapsed": true
   },
   "outputs": [],
   "source": [
    "mrna <- read.csv( \"mRNA_201710262036.csv\", header=T)"
   ]
  }
 ],
 "metadata": {
  "kernelspec": {
   "display_name": "R",
   "language": "R",
   "name": "ir"
  },
  "language_info": {
   "codemirror_mode": "r",
   "file_extension": ".r",
   "mimetype": "text/x-r-source",
   "name": "R",
   "pygments_lexer": "r",
   "version": "3.3.1"
  }
 },
 "nbformat": 4,
 "nbformat_minor": 0
}
