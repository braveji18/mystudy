{
 "cells": [
  {
   "cell_type": "code",
   "execution_count": 2,
   "metadata": {
    "collapsed": true
   },
   "outputs": [],
   "source": [
    "#!/usr/bin/python\n",
    "#-*- coding: utf-8 -*-\n",
    "\n",
    "import urllib2 \n",
    "import json \n",
    "import pprint\n",
    "from cStringIO import StringIO\n",
    "import datetime, time"
   ]
  },
  {
   "cell_type": "code",
   "execution_count": 3,
   "metadata": {
    "collapsed": false
   },
   "outputs": [
    {
     "name": "stdout",
     "output_type": "stream",
     "text": [
      "2017-10-25 09:19:31\n"
     ]
    }
   ],
   "source": [
    "def getDateFormat( base_date  ) :\n",
    "    myDatetime = datetime.datetime.strptime(base_date, '%Y%m%d')    \n",
    "    return myDatetime.strftime('%Y-%m-%d')\n",
    "\n",
    "def getTimeFormat( base_time  ) :\n",
    "    myDatetime = datetime.datetime.strptime(base_time, '%H%M')    \n",
    "    return myDatetime.strftime('%H:%M:%S.%f')\n",
    "\n",
    "def getNowFormat( dateformat='%Y-%m-%d %H:%M:%S', prevHour=0 ) :\n",
    "    today = datetime.datetime.now()\n",
    "    if prevHour != 0 : \n",
    "        today = today - datetime.timedelta(hours=prevHour)\n",
    "    return today.strftime( dateformat )\n",
    "\n",
    "def print_dic( dic ) :\n",
    "    for keys,values in dic.items():\n",
    "        print( \"%s : %s\" %( keys, values ) )\n",
    "\n",
    "print getNowFormat('%Y-%m-%d %H:%M:%S', prevHour=1)"
   ]
  },
  {
   "cell_type": "code",
   "execution_count": 4,
   "metadata": {
    "collapsed": false
   },
   "outputs": [
    {
     "name": "stdout",
     "output_type": "stream",
     "text": [
      "abcdefg\n"
     ]
    }
   ],
   "source": [
    "str = '[abcdefg]'\n",
    "print(str[1:len(str)-1])"
   ]
  },
  {
   "cell_type": "code",
   "execution_count": 5,
   "metadata": {
    "collapsed": false
   },
   "outputs": [],
   "source": [
    "LOCATION_INFOS = {\n",
    "'경상북도 포항시 남구 구룡포읍':{'do':'경상북도','gu':'포항시남구',\t'dong':'구룡포읍', 'x':'105', 'y':'94' },\n",
    "'경상북도 포항시 남구 연일읍':{'do':'경상북도','gu':'포항시남구',\t'dong':'연일읍', 'x':'102', 'y':'94' },\n",
    "#'경상북도 포항시 남구 오천읍':{'do':'경상북도','gu':'포항시남구',\t'dong':'오천읍', 'x':'103', 'y':'93' },\n",
    "#'경상북도 포항시 남구 대송면':{'do':'경상북도','gu':'포항시남구',\t'dong':'대송면', 'x':'102', 'y':'93' },\n",
    "#'경상북도 포항시 남구 동해면':{'do':'경상북도','gu':'포항시남구',\t'dong':'동해면', 'x':'104', 'y':'94' },\n",
    "#'경상북도 포항시 남구 장기면':{'do':'경상북도','gu':'포항시남구',\t'dong':'장기면', 'x':'105', 'y':'92' },\n",
    "#'경상북도 포항시 남구 호미곶면':{'do':'경상북도','gu':'포항시남구',\t'dong':'호미곶면', 'x':'106', 'y':'96' },\n",
    "#'경상북도 포항시 남구 상대동':{'do':'경상북도','gu':'포항시남구',\t'dong':'상대동', 'x':'102', 'y':'94' },\n",
    "#'경상북도 포항시 남구 해도동':{'do':'경상북도','gu':'포항시남구',\t'dong':'해도동', 'x':'102', 'y':'94' },\n",
    "#'경상북도 포항시 남구 송도동':{'do':'경상북도','gu':'포항시남구',\t'dong':'송도동', 'x':'102', 'y':'94' },\n",
    "#'경상북도 포항시 남구 청림동':{'do':'경상북도',\t'gu':'포항시남구',\t'dong':'청림동', 'x':'103', 'y':'94' },\n",
    "#'경상북도 포항시 남구 제철동':{'do':'경상북도',\t'gu':'포항시남구',\t'dong':'제철동', 'x':'103', 'y':'94' },\n",
    "#'경상북도 포항시 남구 효곡동':{'do':'경상북도',\t'gu':'포항시남구',\t'dong':'효곡동', 'x':'102', 'y':'94' },\n",
    "#'경상북도 포항시 남구 대이동':{'do':'경상북도',\t'gu':'포항시남구',\t'dong':'대이동', 'x':'102', 'y':'94' },\n",
    "#'경상북도 포항시 북구 흥해읍':{'do':'경상북도',\t'gu':'포항시북구',\t'dong':'흥해읍', 'x':'102', 'y':'96' },\n",
    "#'경상북도 포항시 북구 신광면':{'do':'경상북도',\t'gu':'포항시북구',\t'dong':'신광면', 'x':'100', 'y':'97' },\n",
    "#'경상북도 포항시 북구 청하면':{'do':'경상북도',\t'gu':'포항시북구',\t'dong':'청하면', 'x':'102', 'y':'98' },\n",
    "#'경상북도 포항시 북구 송라면':{'do':'경상북도',\t'gu':'포항시북구',\t'dong':'송라면', 'x':'102', 'y':'99' },\n",
    "#'경상북도 포항시 북구 기계면':{'do':'경상북도',\t'gu':'포항시북구',\t'dong':'기계면', 'x':'100', 'y':'95' },\n",
    "#'경상북도 포항시 북구 죽장면':{'do':'경상북도',\t'gu':'포항시북구',\t'dong':'죽장면', 'x':'97', 'y':'97' },\n",
    "#'경상북도 포항시 북구 기북면':{'do':'경상북도',\t'gu':'포항시북구',\t'dong':'기북면', 'x':'99', 'y':'96' },\n",
    "#'경상북도 포항시 북구 중앙동':{'do':'경상북도',\t'gu':'포항시북구',\t'dong':'중앙동', 'x':'102', 'y':'95' },\n",
    "#'경상북도 포항시 북구 양학동':{'do':'경상북도',\t'gu':'포항시북구',\t'dong':'양학동', 'x':'102', 'y':'94' },\n",
    "#'경상북도 포항시 북구 죽도동':{'do':'경상북도',\t'gu':'포항시북구',\t'dong':'죽도동', 'x':'102', 'y':'95' },\n",
    "#'경상북도 포항시 북구 용흥동':{'do':'경상북도',\t'gu':'포항시북구',\t'dong':'용흥동', 'x':'102', 'y':'95' },\n",
    "#'경상북도 포항시 북구 우창동':{'do':'경상북도',\t'gu':'포항시북구',\t'dong':'우창동', 'x':'102', 'y':'95' },\n",
    "#'경상북도 포항시 북구 두호동':{'do':'경상북도',\t'gu':'포항시북구',\t'dong':'두호동', 'x':'102', 'y':'95' },\n",
    "#'경상북도 포항시 북구 장량동':{'do':'경상북도',\t'gu':'포항시북구',\t'dong':'장량동', 'x':'102', 'y':'95' },\n",
    "#'경상북도 포항시 북구 환여동':{'do':'경상북도',\t'gu':'포항시북구',\t'dong':'환여동', 'x':'103', 'y':'95' },\n",
    "}\n",
    "\n",
    "#print_dic( LOCATION_INFOS )"
   ]
  },
  {
   "cell_type": "code",
   "execution_count": 9,
   "metadata": {
    "collapsed": false
   },
   "outputs": [
    {
     "name": "stdout",
     "output_type": "stream",
     "text": [
      "{u'response': {u'body': {u'items': {u'item': [{u'baseDate': 20171025,\n",
      "                                               u'baseTime': u'0800',\n",
      "                                               u'category': u'LGT',\n",
      "                                               u'nx': 105,\n",
      "                                               u'ny': 94,\n",
      "                                               u'obsrValue': 0},\n",
      "                                              {u'baseDate': 20171025,\n",
      "                                               u'baseTime': u'0800',\n",
      "                                               u'category': u'PTY',\n",
      "                                               u'nx': 105,\n",
      "                                               u'ny': 94,\n",
      "                                               u'obsrValue': 0},\n",
      "                                              {u'baseDate': 20171025,\n",
      "                                               u'baseTime': u'0800',\n",
      "                                               u'category': u'REH',\n",
      "                                               u'nx': 105,\n",
      "                                               u'ny': 94,\n",
      "                                               u'obsrValue': 69},\n",
      "                                              {u'baseDate': 20171025,\n",
      "                                               u'baseTime': u'0800',\n",
      "                                               u'category': u'RN1',\n",
      "                                               u'nx': 105,\n",
      "                                               u'ny': 94,\n",
      "                                               u'obsrValue': 0},\n",
      "                                              {u'baseDate': 20171025,\n",
      "                                               u'baseTime': u'0800',\n",
      "                                               u'category': u'SKY',\n",
      "                                               u'nx': 105,\n",
      "                                               u'ny': 94,\n",
      "                                               u'obsrValue': 1},\n",
      "                                              {u'baseDate': 20171025,\n",
      "                                               u'baseTime': u'0800',\n",
      "                                               u'category': u'T1H',\n",
      "                                               u'nx': 105,\n",
      "                                               u'ny': 94,\n",
      "                                               u'obsrValue': 13},\n",
      "                                              {u'baseDate': 20171025,\n",
      "                                               u'baseTime': u'0800',\n",
      "                                               u'category': u'UUU',\n",
      "                                               u'nx': 105,\n",
      "                                               u'ny': 94,\n",
      "                                               u'obsrValue': 1.7},\n",
      "                                              {u'baseDate': 20171025,\n",
      "                                               u'baseTime': u'0800',\n",
      "                                               u'category': u'VEC',\n",
      "                                               u'nx': 105,\n",
      "                                               u'ny': 94,\n",
      "                                               u'obsrValue': 220},\n",
      "                                              {u'baseDate': 20171025,\n",
      "                                               u'baseTime': u'0800',\n",
      "                                               u'category': u'VVV',\n",
      "                                               u'nx': 105,\n",
      "                                               u'ny': 94,\n",
      "                                               u'obsrValue': 2},\n",
      "                                              {u'baseDate': 20171025,\n",
      "                                               u'baseTime': u'0800',\n",
      "                                               u'category': u'WSD',\n",
      "                                               u'nx': 105,\n",
      "                                               u'ny': 94,\n",
      "                                               u'obsrValue': 2.6}]},\n",
      "                         u'numOfRows': 100,\n",
      "                         u'pageNo': 1,\n",
      "                         u'totalCount': 10},\n",
      "               u'header': {u'resultCode': u'0000', u'resultMsg': u'OK'}}}\n"
     ]
    }
   ],
   "source": [
    "DATA_GO_URL = 'http://newsky2.kma.go.kr'\n",
    "SEVICE_LIST = { \n",
    " '생활기상지수 조회 서비스' : \"iros/RetrieveLifeIndexService2\",\n",
    " '동네예보정보조회서비스' : \"service/SecndSrtpdFrcstInfoService2\"\n",
    "}\n",
    "\n",
    "FORECAST_DETAIL_FUNCTION  = { \n",
    " '초단기실황조회' : 'ForecastGrib', \n",
    " '초단기예보조회' : 'ForecastTimeData', \n",
    " '동네예보조회' : 'ForecastSpaceData', \n",
    " '예보버전조회' : 'ForecastVersionCheck'\n",
    " }\n",
    "\n",
    "LIFE_DETAIL_FUNCTION  = { \n",
    " '식중독지수' : 'getFsnLifeList', \n",
    " '체감온도' : 'getSensorytemLifeList', \n",
    " '열지수' : 'getHeatLifeList', \n",
    " '불쾌지수' : 'getDspIsLifeList', \n",
    " '동파가능지수' : 'getWinterLifeList', \n",
    " '자외선지수' : 'getUltrvLifeList', \n",
    " '대기오염확산지수' : 'getAirpollutionLifeList'\n",
    "}\n",
    "\n",
    "CODE_INFO = {\n",
    " '초단기실황' : [ 'T1H', 'RN1', 'SKY', 'UUU', 'VVV', 'REH', 'PTY', 'LGT', 'VEC', 'WSD'], \n",
    "}\n",
    "\n",
    "SERVICE_KEY = \"2GiBhujMz%2BTjpU7DGW5S08PybBafZ3d1ROrBwFCMcfQ2FszNe0QUpSN3LVA%2F%2FpNAkSXInsyr68yj%2FIte8pP%2FWQ%3D%3D\"\n",
    "\n",
    "SEPARATOR = ','\n",
    "\n",
    "#print_dic( SEVICE_LIST  )\n",
    "#print_dic( FORECAST_DETAIL_FUNCTION  )\n",
    "#print_dic( LIFE_DETAIL_FUNCTION  )\n",
    "    \n",
    "retrive_url =   \"%s/%s/%s?ServiceKey=%s&base_date=20171025&base_time=0800&nx=105&ny=94&pageNo=1&numOfRows=100&_type=json\"  \\\n",
    "                 % ( DATA_GO_URL , SEVICE_LIST['동네예보정보조회서비스'], FORECAST_DETAIL_FUNCTION['초단기실황조회'] , SERVICE_KEY )\n",
    "    \n",
    "##print retrive_url \n",
    "req = urllib2.urlopen( retrive_url ) \n",
    "data = json.load(req)\n",
    "pprint.pprint ( data )\n",
    "\n",
    "##print data['response']['body']['totalCount']"
   ]
  },
  {
   "cell_type": "code",
   "execution_count": 7,
   "metadata": {
    "collapsed": false
   },
   "outputs": [],
   "source": [
    "# 초단기실황 데이터 조회\n",
    "def getForecastGrib(base_date, base_time, f ) :\n",
    "    base_retrive_url =   \"%s/%s/%s?ServiceKey=%s&base_date=%s&base_time=%s&nx=%s&ny=%s&pageNo=1&numOfRows=100&_type=json\"\n",
    "    \n",
    "    codes = CODE_INFO['초단기실황']\n",
    "    \n",
    "    for keys, loc_info in LOCATION_INFOS.items():\n",
    "        nx = loc_info['x']\n",
    "        ny = loc_info['y']\n",
    "        retrive_url = base_retrive_url  \\\n",
    "                    % ( DATA_GO_URL , SEVICE_LIST['동네예보정보조회서비스'], FORECAST_DETAIL_FUNCTION['초단기실황조회'] , \\\n",
    "                        SERVICE_KEY, base_date, base_time, nx, ny )\n",
    "        req = urllib2.urlopen( retrive_url ) \n",
    "        data = json.load(req) \n",
    "        \n",
    "        resultMsg = data['response']['header']['resultMsg']\n",
    "        if resultMsg != 'OK' :\n",
    "            print 'Error : getForecastGrib(%s, %s) ' % (base_date, base_time )  +  resultMsg\n",
    "            continue\n",
    "        \n",
    "        totalCount = data['response']['body']['totalCount']\n",
    "        \n",
    "        items = {}\n",
    "        for idx in range( totalCount ) : \n",
    "             category = data['response']['body']['items']['item'][idx]['category']\n",
    "             obsrValue = data['response']['body']['items']['item'][idx]['obsrValue']\n",
    "             items[category] = obsrValue\n",
    "        \n",
    "        line = StringIO()\n",
    "        \n",
    "        line.write( loc_info['do'] )\n",
    "        line.write( SEPARATOR  )\n",
    "        line.write( loc_info['gu'] )\n",
    "        line.write( SEPARATOR  )        \n",
    "        line.write( loc_info['dong'] )\n",
    "        line.write( SEPARATOR  )\n",
    "        line.write( getDateFormat( base_date ) )\n",
    "        #line.write( SEPARATOR  )\n",
    "        line.write( ' '  )\n",
    "        line.write( getTimeFormat(base_time) )\n",
    "        line.write( SEPARATOR  )        \n",
    "        \n",
    "        for codeId in codes :\n",
    "            if codeId in items.keys(): \n",
    "                line.write( str( items[ codeId ] )  )\n",
    "\n",
    "            line.write( SEPARATOR  )\n",
    "        \n",
    "        f.write( line.getvalue() )\n",
    "        f.write( '\\n' )\n",
    "        f.flush()\n",
    "        line.close() \n",
    "\n",
    "def getForecastGribFromTo(base_date, from_time, to_time, f ) :\n",
    "    base_time = ''\n",
    "    for hour in range(from_time, to_time + 1) :\n",
    "        base_time =  '%02d' % (hour)  + '00'\n",
    "        getForecastGrib(base_date , base_time, f )"
   ]
  },
  {
   "cell_type": "code",
   "execution_count": 9,
   "metadata": {
    "collapsed": false
   },
   "outputs": [
    {
     "name": "stdout",
     "output_type": "stream",
     "text": [
      "forecastgrib.py, Run Time: 23 sec\n"
     ]
    }
   ],
   "source": [
    "def main():\n",
    "    WORK_DIR = 'D:/Work_Git/work/postech'\n",
    "    fileForecastGrib = '%s/ForecastGrib_%s.csv' % (WORK_DIR,  getNowFormat( '%Y%m%d%H' ) )\n",
    "    base_date = getNowFormat( '%Y%m%d' )\n",
    "    base_time = getNowFormat( '%H00', prevHour=1 )\n",
    "\n",
    "    with open(fileForecastGrib, 'w') as f:\n",
    "        getForecastGribFromTo( base_date, 0, 9, f )\n",
    "        ##getForecastGrib( base_date, base_time, f )\n",
    "\n",
    "\n",
    "if __name__ == \"__main__\":\n",
    "    import time\n",
    "    t1 = time.time() # start time\n",
    "    main()\n",
    "    t2 = time.time() # end time\n",
    "    print (\"forecastgrib.py, Run Time: %d sec\" %(t2-t1) )"
   ]
  },
  {
   "cell_type": "code",
   "execution_count": null,
   "metadata": {
    "collapsed": true
   },
   "outputs": [],
   "source": []
  }
 ],
 "metadata": {
  "kernelspec": {
   "display_name": "Python 2",
   "language": "python",
   "name": "python2"
  },
  "language_info": {
   "codemirror_mode": {
    "name": "ipython",
    "version": 2
   },
   "file_extension": ".py",
   "mimetype": "text/x-python",
   "name": "python",
   "nbconvert_exporter": "python",
   "pygments_lexer": "ipython2",
   "version": "2.7.11"
  }
 },
 "nbformat": 4,
 "nbformat_minor": 0
}
