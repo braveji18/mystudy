{
 "cells": [
  {
   "cell_type": "code",
   "execution_count": 32,
   "metadata": {
    "collapsed": true
   },
   "outputs": [],
   "source": [
    "#!/usr/bin/python\n",
    "#-*- coding: utf-8 -*-\n",
    "\n",
    "import urllib2 \n",
    "import json \n",
    "import pprint\n",
    "from cStringIO import StringIO\n",
    "import datetime, time"
   ]
  },
  {
   "cell_type": "code",
   "execution_count": 33,
   "metadata": {
    "collapsed": false
   },
   "outputs": [
    {
     "name": "stdout",
     "output_type": "stream",
     "text": [
      "2017-10-23 18:32:47\n"
     ]
    }
   ],
   "source": [
    "def getDateFormat( base_date  ) :\n",
    "    myDatetime = datetime.datetime.strptime(base_date, '%Y%m%d')    \n",
    "    return myDatetime.strftime('%Y-%m-%d')\n",
    "\n",
    "def getTimeFormat( base_time  ) :\n",
    "    myDatetime = datetime.datetime.strptime(base_time, '%H%M')    \n",
    "    return myDatetime.strftime('%H:%M:%S.%f')\n",
    "\n",
    "def getNowFormat( dateformat='%Y-%m-%d %H:%M:%S', prevHour=0 ) :\n",
    "    today = datetime.datetime.now()\n",
    "    if prevHour != 0 : \n",
    "        today = today - datetime.timedelta(hours=prevHour)\n",
    "    return today.strftime( dateformat )\n",
    "\n",
    "def print_dic( dic ) :\n",
    "    for keys,values in dic.items():\n",
    "        print( \"%s : %s\" %( keys, values ) )\n",
    "\n",
    "print getNowFormat('%Y-%m-%d %H:%M:%S', prevHour=1)"
   ]
  },
  {
   "cell_type": "code",
   "execution_count": 34,
   "metadata": {
    "collapsed": false
   },
   "outputs": [],
   "source": [
    "LOCATION_INFOS = {\n",
    "#'경상북도 포항시 남구 구룡포읍':{'do':'경상북도','gu':'포항시남구','dong':'구룡포읍', 'x':'105', 'y':'94' ,'AreaNo':'4711125000'},\n",
    "#'경상북도 포항시 남구 연일읍':{'do':'경상북도','gu':'포항시남구','dong':'연일읍', 'x':'102', 'y':'94'    ,'AreaNo':'4711125300'},\n",
    "#'경상북도 포항시 남구 오천읍':{'do':'경상북도','gu':'포항시남구','dong':'오천읍', 'x':'103', 'y':'93'    ,'AreaNo':'4711125600'},\n",
    "'경상북도 포항시 남구 대송면':{'do':'경상북도','gu':'포항시남구','dong':'대송면', 'x':'102', 'y':'93'    ,'AreaNo':'4711131000'},\n",
    "'경상북도 포항시 남구 동해면':{'do':'경상북도','gu':'포항시남구','dong':'동해면', 'x':'104', 'y':'94'    ,'AreaNo':'4711132000'},\n",
    "'경상북도 포항시 남구 장기면':{'do':'경상북도','gu':'포항시남구','dong':'장기면', 'x':'105', 'y':'92'    ,'AreaNo':'4711133000'},\n",
    "#'경상북도 포항시 남구 호미곶면':{'do':'경상북도','gu':'포항시남구','dong':'호미곶면', 'x':'106', 'y':'96' ,'AreaNo':'4711135000'},\n",
    "#'경상북도 포항시 남구 상대동':{'do':'경상북도','gu':'포항시남구','dong':'상대동', 'x':'102', 'y':'94'    ,'AreaNo':'4711152500'},\n",
    "#'경상북도 포항시 남구 해도동':{'do':'경상북도','gu':'포항시남구','dong':'해도동', 'x':'102', 'y':'94'    ,'AreaNo':'4711154500'},\n",
    "#'경상북도 포항시 남구 송도동':{'do':'경상북도','gu':'포항시남구','dong':'송도동', 'x':'102', 'y':'94'    ,'AreaNo':'4711155000'},\n",
    "#'경상북도 포항시 남구 청림동':{'do':'경상북도','gu':'포항시남구','dong':'청림동', 'x':'103', 'y':'94'    ,'AreaNo':'4711156000'},\n",
    "#'경상북도 포항시 남구 제철동':{'do':'경상북도','gu':'포항시남구','dong':'제철동', 'x':'103', 'y':'94'    ,'AreaNo':'4711157000'},\n",
    "#'경상북도 포항시 남구 효곡동':{'do':'경상북도','gu':'포항시남구','dong':'효곡동', 'x':'102', 'y':'94'    ,'AreaNo':'4711158000'},\n",
    "#'경상북도 포항시 남구 대이동':{'do':'경상북도','gu':'포항시남구','dong':'대이동', 'x':'102', 'y':'94'    ,'AreaNo':'4711159000'},\n",
    "#'경상북도 포항시 북구 흥해읍':{'do':'경상북도','gu':'포항시북구','dong':'흥해읍', 'x':'102', 'y':'96'    ,'AreaNo':'4711325000'},\n",
    "#'경상북도 포항시 북구 신광면':{'do':'경상북도','gu':'포항시북구','dong':'신광면', 'x':'100', 'y':'97'    ,'AreaNo':'4711331000'},\n",
    "#'경상북도 포항시 북구 청하면':{'do':'경상북도','gu':'포항시북구','dong':'청하면', 'x':'102', 'y':'98'    ,'AreaNo':'4711332000'},\n",
    "#'경상북도 포항시 북구 송라면':{'do':'경상북도','gu':'포항시북구','dong':'송라면', 'x':'102', 'y':'99'    ,'AreaNo':'4711333000'},\n",
    "#'경상북도 포항시 북구 기계면':{'do':'경상북도','gu':'포항시북구','dong':'기계면', 'x':'100', 'y':'95'    ,'AreaNo':'4711334000'},\n",
    "#'경상북도 포항시 북구 죽장면':{'do':'경상북도','gu':'포항시북구','dong':'죽장면', 'x':'97', 'y':'97'     ,'AreaNo':'4711335000'},\n",
    "#'경상북도 포항시 북구 기북면':{'do':'경상북도','gu':'포항시북구','dong':'기북면', 'x':'99', 'y':'96'     ,'AreaNo':'4711336000'},\n",
    "#'경상북도 포항시 북구 중앙동':{'do':'경상북도','gu':'포항시북구','dong':'중앙동', 'x':'102', 'y':'95'    ,'AreaNo':'4711352000'},\n",
    "#'경상북도 포항시 북구 양학동':{'do':'경상북도','gu':'포항시북구','dong':'양학동', 'x':'102', 'y':'94'    ,'AreaNo':'4711363000'},\n",
    "#'경상북도 포항시 북구 죽도동':{'do':'경상북도','gu':'포항시북구','dong':'죽도동', 'x':'102', 'y':'95'    ,'AreaNo':'4711365500'},\n",
    "#'경상북도 포항시 북구 용흥동':{'do':'경상북도','gu':'포항시북구','dong':'용흥동', 'x':'102', 'y':'95'    ,'AreaNo':'4711366500'},\n",
    "#'경상북도 포항시 북구 우창동':{'do':'경상북도','gu':'포항시북구','dong':'우창동', 'x':'102', 'y':'95'    ,'AreaNo':'4711368000'},\n",
    "#'경상북도 포항시 북구 두호동':{'do':'경상북도','gu':'포항시북구','dong':'두호동', 'x':'102', 'y':'95'    ,'AreaNo':'4711369000'},\n",
    "#'경상북도 포항시 북구 장량동':{'do':'경상북도','gu':'포항시북구','dong':'장량동', 'x':'102', 'y':'95'    ,'AreaNo':'4711370000'},\n",
    "#'경상북도 포항시 북구 환여동':{'do':'경상북도','gu':'포항시북구','dong':'환여동', 'x':'103', 'y':'95'    ,'AreaNo':'4711371000'},\n",
    "}\n",
    "\n",
    "#print_dic( LOCATION_INFOS )"
   ]
  },
  {
   "cell_type": "code",
   "execution_count": 35,
   "metadata": {
    "collapsed": false
   },
   "outputs": [
    {
     "name": "stdout",
     "output_type": "stream",
     "text": [
      "http://newsky2.kma.go.kr/iros/RetrieveLifeIndexService2/getFsnLifeList?ServiceKey=2GiBhujMz%2BTjpU7DGW5S08PybBafZ3d1ROrBwFCMcfQ2FszNe0QUpSN3LVA%2F%2FpNAkSXInsyr68yj%2FIte8pP%2FWQ%3D%3D&areaNo=4711125000&time=2017102311&_type=json\n"
     ]
    }
   ],
   "source": [
    "DATA_GO_URL = 'http://newsky2.kma.go.kr'\n",
    "SEVICE_LIST = { \n",
    " '생활기상지수조회서비스' : \"iros/RetrieveLifeIndexService2\",\n",
    " '동네예보정보조회서비스' : \"service/SecndSrtpdFrcstInfoService2\"\n",
    "}\n",
    "\n",
    "DETAIL_FUNCTION  = { \n",
    " '초단기실황조회' : 'ForecastGrib', \n",
    " '초단기예보조회' : 'ForecastTimeData', \n",
    " '동네예보조회' : 'ForecastSpaceData', \n",
    " '예보버전조회' : 'ForecastVersionCheck',\n",
    " '식중독지수' : 'getFsnLifeList', \n",
    " '체감온도' : 'getSensorytemLifeList', \n",
    " '열지수' : 'getHeatLifeList', \n",
    " '불쾌지수' : 'getDspIsLifeList', \n",
    " '동파가능지수' : 'getWinterLifeList', \n",
    " '자외선지수' : 'getUltrvLifeList', \n",
    " '대기오염확산지수' : 'getAirpollutionLifeList'\n",
    "}\n",
    "\n",
    "CODE_INFO = {\n",
    " '초단기실황' : [ 'T1H', 'RN1', 'SKY', 'UUU', 'VVV', 'REH', 'PTY', 'LGT', 'VEC', 'WSD'], \n",
    " '식중독지수':'A01_2' ,\n",
    " '자외선지수':'A07' ,\n",
    " '체감온도':'A03' ,\n",
    " '열지수':'A05' ,\n",
    " '불쾌지수':'A06' ,\n",
    " '동파가능지수':'A08' ,\n",
    " '대기오염확산지수':'A09' ,     \n",
    "}\n",
    "\n",
    "SERVICE_KEY = \"2GiBhujMz%2BTjpU7DGW5S08PybBafZ3d1ROrBwFCMcfQ2FszNe0QUpSN3LVA%2F%2FpNAkSXInsyr68yj%2FIte8pP%2FWQ%3D%3D\"\n",
    "\n",
    "SEPARATOR = ','\n",
    "\n",
    "#print_dic( SEVICE_LIST  )\n",
    "#print_dic( FORECAST_DETAIL_FUNCTION  )\n",
    "#print_dic( LIFE_DETAIL_FUNCTION  )\n",
    "    \n",
    "retrive_url =   \"%s/%s/%s?ServiceKey=%s&areaNo=4711125000&time=2017102311&_type=json\"  \\\n",
    "                 % ( DATA_GO_URL , SEVICE_LIST['생활기상지수조회서비스'], DETAIL_FUNCTION['식중독지수'] , SERVICE_KEY )\n",
    "    \n",
    "print retrive_url \n",
    "#req = urllib2.urlopen( retrive_url ) \n",
    "#data = json.load(req)\n",
    "#pprint.pprint ( data )\n",
    "\n",
    "##print data['response']['body']['totalCount']"
   ]
  },
  {
   "cell_type": "code",
   "execution_count": 36,
   "metadata": {
    "collapsed": false
   },
   "outputs": [
    {
     "name": "stdout",
     "output_type": "stream",
     "text": [
      "{u'Response': {u'body': {u'indexModel': {u'code': u'A07', u'theDayAfterTomorrow': u'4', u'date': u'2017102306', u'areaNo': u'4711131000', u'tomorrow': u'3', u'today': u'3'}}, u'header': {u'successYN': u'Y', u'returnCode': u'00', u'errMsg': u''}}}\n",
      "{u'Response': {u'body': {u'indexModel': {u'code': u'A07', u'theDayAfterTomorrow': u'4', u'date': u'2017102306', u'areaNo': u'4711133000', u'tomorrow': u'3', u'today': u'3'}}, u'header': {u'successYN': u'Y', u'returnCode': u'00', u'errMsg': u''}}}\n",
      "{u'Response': {u'body': {u'indexModel': {u'code': u'A07', u'theDayAfterTomorrow': u'4', u'date': u'2017102306', u'areaNo': u'4711132000', u'tomorrow': u'3', u'today': u'3'}}, u'header': {u'successYN': u'Y', u'returnCode': u'00', u'errMsg': u''}}}\n"
     ]
    }
   ],
   "source": [
    "# 식중독지수 데이터 조회\n",
    "def getFsnLifeList( base_time ) :\n",
    "    base_retrive_url =   \"%s/%s/%s?ServiceKey=%s&areaNo=%s&time=%s&_type=json\"\n",
    "    \n",
    "    codes = CODE_INFO['식중독지수']\n",
    "    for keys, loc_info in LOCATION_INFOS.items():\n",
    "        area_no = loc_info['AreaNo']\n",
    "        retrive_url = base_retrive_url  \\\n",
    "                    % ( DATA_GO_URL , SEVICE_LIST['생활기상지수조회서비스'], DETAIL_FUNCTION['자외선지수'] , \\\n",
    "                        SERVICE_KEY, area_no ,base_time )\n",
    "        req = urllib2.urlopen( retrive_url ) \n",
    "        data = json.load(req)\n",
    "        print data\n",
    "        \n",
    "        resultMsg = data['Response']['header']['errMsg']\n",
    "        if resultMsg != '' :\n",
    "            print 'Error : getFsnLifeList(%s) : %s'  % ( base_time,  resultMsg )  \n",
    "            continue   \n",
    "        \n",
    "        #to_day = data['Response']['body']['indexModel']['date']\n",
    "        #val = data['Response']['body']['indexModel']['today']\n",
    "        \n",
    "        #print \"%s, %s, %s\" %(to_day, area_no, val  )\n",
    "        \n",
    "getFsnLifeList( '2017102311' )"
   ]
  },
  {
   "cell_type": "code",
   "execution_count": 7,
   "metadata": {
    "collapsed": false
   },
   "outputs": [],
   "source": [
    "# 초단기실황 데이터 조회\n",
    "def getForecastGrib(base_date, base_time, f ) :\n",
    "    base_retrive_url =   \"%s/%s/%s?ServiceKey=%s&base_date=%s&base_time=%s&nx=%s&ny=%s&pageNo=1&numOfRows=100&_type=json\"\n",
    "    \n",
    "    codes = CODE_INFO['초단기실황']\n",
    "    \n",
    "    for keys, loc_info in LOCATION_INFOS.items():\n",
    "        nx = loc_info['x']\n",
    "        ny = loc_info['y']\n",
    "        retrive_url = base_retrive_url  \\\n",
    "                    % ( DATA_GO_URL , SEVICE_LIST['동네예보정보조회서비스'], FORECAST_DETAIL_FUNCTION['초단기실황조회'] , \\\n",
    "                        SERVICE_KEY, base_date, base_time, nx, ny )\n",
    "        req = urllib2.urlopen( retrive_url ) \n",
    "        data = json.load(req) \n",
    "        \n",
    "        resultMsg = data['response']['header']['resultMsg']\n",
    "        if resultMsg != 'OK' :\n",
    "            print 'Error : getForecastGrib(%s, %s) ' % (base_date, base_time )  +  resultMsg\n",
    "            continue\n",
    "        \n",
    "        totalCount = data['response']['body']['totalCount']\n",
    "        \n",
    "        items = {}\n",
    "        for idx in range( totalCount ) : \n",
    "             category = data['response']['body']['items']['item'][idx]['category']\n",
    "             obsrValue = data['response']['body']['items']['item'][idx]['obsrValue']\n",
    "             items[category] = obsrValue\n",
    "        \n",
    "        line = StringIO()\n",
    "        \n",
    "        line.write( loc_info['do'] )\n",
    "        line.write( SEPARATOR  )\n",
    "        line.write( loc_info['gu'] )\n",
    "        line.write( SEPARATOR  )        \n",
    "        line.write( loc_info['dong'] )\n",
    "        line.write( SEPARATOR  )\n",
    "        line.write( getDateFormat( base_date ) )\n",
    "        #line.write( SEPARATOR  )\n",
    "        line.write( ' '  )\n",
    "        line.write( getTimeFormat(base_time) )\n",
    "        line.write( SEPARATOR  )        \n",
    "        \n",
    "        for codeId in codes :\n",
    "            if codeId in items.keys(): \n",
    "                line.write( str( items[ codeId ] )  )\n",
    "\n",
    "            line.write( SEPARATOR  )\n",
    "        \n",
    "        f.write( line.getvalue() )\n",
    "        f.write( '\\n' )\n",
    "        f.flush()\n",
    "        line.close() \n",
    "\n",
    "def getForecastGribFromTo(base_date, from_time, to_time, f ) :\n",
    "    base_time = ''\n",
    "    for hour in range(from_time, to_time + 1) :\n",
    "        base_time =  '%02d' % (hour)  + '00'\n",
    "        getForecastGrib(base_date , base_time, f )"
   ]
  },
  {
   "cell_type": "code",
   "execution_count": 9,
   "metadata": {
    "collapsed": false
   },
   "outputs": [
    {
     "name": "stdout",
     "output_type": "stream",
     "text": [
      "forecastgrib.py, Run Time: 23 sec\n"
     ]
    }
   ],
   "source": [
    "def main():\n",
    "    WORK_DIR = 'D:/Work_Git/work/postech'\n",
    "    fileForecastGrib = '%s/ForecastGrib_%s.csv' % (WORK_DIR,  getNowFormat( '%Y%m%d%H' ) )\n",
    "    base_date = getNowFormat( '%Y%m%d' )\n",
    "    base_time = getNowFormat( '%H00', prevHour=1 )\n",
    "\n",
    "    with open(fileForecastGrib, 'w') as f:\n",
    "        getForecastGribFromTo( base_date, 0, 9, f )\n",
    "        ##getForecastGrib( base_date, base_time, f )\n",
    "\n",
    "\n",
    "if __name__ == \"__main__\":\n",
    "    import time\n",
    "    t1 = time.time() # start time\n",
    "    main()\n",
    "    t2 = time.time() # end time\n",
    "    print (\"forecastgrib.py, Run Time: %d sec\" %(t2-t1) )"
   ]
  },
  {
   "cell_type": "code",
   "execution_count": null,
   "metadata": {
    "collapsed": true
   },
   "outputs": [],
   "source": []
  }
 ],
 "metadata": {
  "kernelspec": {
   "display_name": "Python 2",
   "language": "python",
   "name": "python2"
  },
  "language_info": {
   "codemirror_mode": {
    "name": "ipython",
    "version": 2
   },
   "file_extension": ".py",
   "mimetype": "text/x-python",
   "name": "python",
   "nbconvert_exporter": "python",
   "pygments_lexer": "ipython2",
   "version": "2.7.11"
  }
 },
 "nbformat": 4,
 "nbformat_minor": 0
}
