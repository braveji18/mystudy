{
 "cells": [
  {
   "cell_type": "code",
   "execution_count": 1,
   "metadata": {
    "collapsed": true
   },
   "outputs": [],
   "source": [
    "import pandas as pd"
   ]
  },
  {
   "cell_type": "code",
   "execution_count": 27,
   "metadata": {
    "collapsed": false
   },
   "outputs": [
    {
     "name": "stdout",
     "output_type": "stream",
     "text": [
      "    NO    FLAG       설치일 Building Building Code B/F  Floor    EPS  \\\n",
      "0  105  INSERT  21071030       C5            C5   0      2  EPS B   \n",
      "1  121  INSERT  21071030       C5            C5   0      2  EPS C   \n",
      "2  132  INSERT  21071030       C5            C5   0      6  EPS A   \n",
      "3  133  INSERT  21071030       C5            C5   0      6  EPS D   \n",
      "4  136  INSERT  21071030       C5            C5   0      7  EPS A   \n",
      "\n",
      "  Section code Panel type  ...   Comm' loss(%) Hub(Rack) Hub(Rack) location  \\\n",
      "0            B         층별  ...                                                \n",
      "1            C        실험실  ...                                                \n",
      "2            A        실험실  ...                                                \n",
      "3            D        실험실  ...                                                \n",
      "4            A        실험실  ...                                                \n",
      "\n",
      "  Port IP *정보기술팀 입력(S/W 호실)  실사일자 실사상태   설치상태 Test항목  \n",
      "0                   2F TPS실         완료                \n",
      "1                                   완료                \n",
      "2                                   추가                \n",
      "3                                   완료  기기미설치         \n",
      "4                                   완료                \n",
      "\n",
      "[5 rows x 62 columns]\n"
     ]
    }
   ],
   "source": [
    "data_xls = pd.read_excel(u'(포스텍미터링구축)설치기기리스트(인코어드)_v1.3_SAMPLE.xlsx', u\"1.장치List(층별)\", header=0, index_col=None)\n",
    "data_xls = data_xls.fillna('') # 결측값(nan)을 공백으로 처리함.\n",
    "row_len = len(data_xls.index)\n",
    "\n",
    "print data_xls.head()"
   ]
  },
  {
   "cell_type": "code",
   "execution_count": 31,
   "metadata": {
    "collapsed": false
   },
   "outputs": [
    {
     "name": "stdout",
     "output_type": "stream",
     "text": [
      "0, LP-1B, , LS산전(전자식), C502B:LP-2B:EN-BZ1\n",
      "1, , , , C502C:PP-2C:EN-BZ1\n",
      "2, , , , C506A:BIOAPP2:EN-BZ1\n",
      "3, , , 전자식전력량계(LS산전), C506D:PP-6D:EN-BZ1\n",
      "4, , , , C507A:P-ELEV-A:EN-BZ1\n",
      "5, , , , C507B:P-ELEV-B:EN-BZ1\n",
      "6, LV2-2, , , C5B1E:P-AIR:EN-BZ1\n"
     ]
    }
   ],
   "source": [
    "for row_index, row in data_xls.iterrows():   \n",
    "    print('%s, %s, %s, %s, %s' % (row_index, row[\"(Up)Panel\"], row[u\"(Down)Panel\"], row[\"Watt Meter(Y/N)\"], row[\"Device name\"]  )   )\n",
    "        \n",
    "    device_name = row[\"Device name\"]\n",
    "    site_name_rule =  device_name.split(':')[0]\n",
    "    panel_name_rule =  device_name.split(':')[1]\n",
    "    tag_name_rule =  device_name.split(':')[2]\n",
    "    site_name = site_name_rule[0:2]\n",
    "    site_floor = site_name_rule[2:4]\n",
    "    site_area = site_name_rule[4:]\n",
    "    #print (site_name, site_floor , site_area )"
   ]
  },
  {
   "cell_type": "code",
   "execution_count": null,
   "metadata": {
    "collapsed": true
   },
   "outputs": [],
   "source": []
  }
 ],
 "metadata": {
  "kernelspec": {
   "display_name": "Python 2",
   "language": "python",
   "name": "python2"
  },
  "language_info": {
   "codemirror_mode": {
    "name": "ipython",
    "version": 2
   },
   "file_extension": ".py",
   "mimetype": "text/x-python",
   "name": "python",
   "nbconvert_exporter": "python",
   "pygments_lexer": "ipython2",
   "version": "2.7.11"
  }
 },
 "nbformat": 4,
 "nbformat_minor": 0
}
